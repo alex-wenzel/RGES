{
 "cells": [
  {
   "cell_type": "code",
   "execution_count": 5,
   "metadata": {},
   "outputs": [
    {
     "name": "stdout",
     "output_type": "stream",
     "text": [
      "The autoreload extension is already loaded. To reload it, use:\n",
      "  %reload_ext autoreload\n"
     ]
    }
   ],
   "source": [
    "%matplotlib inline\n",
    "%load_ext autoreload\n",
    "%autoreload 2\n",
    "\n",
    "import matplotlib.pyplot as plt\n",
    "import numpy as np\n",
    "import pandas as pd\n",
    "import seaborn as sns\n",
    "sns.set()\n",
    "\n",
    "import json\n",
    "import rpy2.robjects as robjects\n",
    "from rpy2.robjects.packages import importr\n",
    "\n",
    "qvalue = importr(\"qvalue\")"
   ]
  },
  {
   "cell_type": "markdown",
   "metadata": {},
   "source": [
    "# Statistical Analysis And Multiple Hypothesis Correction For RGES Scores\n",
    "\n",
    "This notebook implements a pipeline for plotting some statistics and producing tables with pvalues and qvalues based on the permutation testing.\n",
    "\n",
    "## Score and Permutation Raw Data"
   ]
  },
  {
   "cell_type": "code",
   "execution_count": 12,
   "metadata": {
    "collapsed": true
   },
   "outputs": [],
   "source": [
    "## Chemical Perturbagens\n",
    "SCORES_PATH = \"/home/jovyan/oncogxA/Alex/l1k/LINCS_FULL_GEO_RANKED/LINCS_landmarks_python_scores.json\"\n",
    "PERMS_PATH = \"/home/jovyan/oncogxA/Alex/l1k/LINCS_FULL_GEO_RANKED/GSE70138_perms.json\""
   ]
  },
  {
   "cell_type": "markdown",
   "metadata": {},
   "source": [
    "## Loading Score and Permutation Raw Data"
   ]
  },
  {
   "cell_type": "code",
   "execution_count": 6,
   "metadata": {
    "collapsed": true
   },
   "outputs": [],
   "source": [
    "SCORES = json.loads(open(SCORES_PATH).read())\n",
    "PERMS = json.loads(open(PERMS_PATH).read())"
   ]
  },
  {
   "cell_type": "markdown",
   "metadata": {},
   "source": [
    "## Histogram of True Scores Data"
   ]
  },
  {
   "cell_type": "code",
   "execution_count": 11,
   "metadata": {},
   "outputs": [
    {
     "data": {
      "image/png": "[encoded data removed]",
      "text/plain": [
       "<matplotlib.figure.Figure at 0x7ff0b6b1b9b0>"
      ]
     },
     "metadata": {},
     "output_type": "display_data"
    }
   ],
   "source": [
    "plt.hist(list(SCORES.values()), bins=300)\n",
    "plt.show()"
   ]
  },
  {
   "cell_type": "markdown",
   "metadata": {},
   "source": [
    "## Calculating P-values\n",
    "\n",
    "This function calculates a pvalue given the name of a LINCS profile. The pvalue is calculated by dividing the number of permutation results more extreme than the true score by the number of permutations. If a score is negative, then a more extreme score would be smaller than the true score. If the score is positive, a more extreme score would be larger than the true score. A pvalue equal to ```0``` should be interpreted as ```< 1/#permutations```"
   ]
  },
  {
   "cell_type": "code",
   "execution_count": null,
   "metadata": {
    "collapsed": true
   },
   "outputs": [],
   "source": [
    "def get_pval(profname):\n",
    "    true_score = SCORES[profname]\n",
    "    perms_scores = PERMS[profname]"
   ]
  }
 ],
 "metadata": {
  "kernelspec": {
   "display_name": "Python 3",
   "language": "python",
   "name": "python3"
  },
  "language_info": {
   "codemirror_mode": {
    "name": "ipython",
    "version": 3
   },
   "file_extension": ".py",
   "mimetype": "text/x-python",
   "name": "python",
   "nbconvert_exporter": "python",
   "pygments_lexer": "ipython3",
   "version": "3.5.2"
  }
 },
 "nbformat": 4,
 "nbformat_minor": 2
}
