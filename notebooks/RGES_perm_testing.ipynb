{
 "cells": [
  {
   "cell_type": "code",
   "execution_count": 89,
   "metadata": {},
   "outputs": [
    {
     "name": "stdout",
     "output_type": "stream",
     "text": [
      "The autoreload extension is already loaded. To reload it, use:\n",
      "  %reload_ext autoreload\n"
     ]
    }
   ],
   "source": [
    "%matplotlib inline\n",
    "%load_ext autoreload\n",
    "%autoreload 2\n",
    "\n",
    "import matplotlib.pyplot as plt\n",
    "import numpy as np\n",
    "import pandas as pd\n",
    "import seaborn as sns\n",
    "sns.set()\n",
    "\n",
    "from IPython.display import display\n",
    "from ipywidgets import FloatProgress\n",
    "import json\n",
    "from multiprocessing import Pool\n",
    "from rpy2.robjects.packages import importr\n",
    "from rpy2.robjects.vectors import FloatVector\n",
    "import sklearn\n",
    "import sys\n",
    "sys.path.insert(0, '../')"
   ]
  },
  {
   "cell_type": "markdown",
   "metadata": {},
   "source": [
    "# RGES Permutation Testing\n",
    "\n",
    "This notebook implements a multithreaded permutation test for RGES Scores. The method is based on Sirota et al's<sup>1</sup> computation approach to drug validation with gene expression data. The input files are:\n",
    "\n",
    "**Phenotype Signature**\n",
    "\n",
    "A tab-separated format with the following columns:\n",
    "- ```entrezgene```: Entrez gene ID numbers\n",
    "- ```log2FoldChange```: Fold change for the upregulated genes.\n",
    "- ```log2fc.y```: The **unsigned** fold change for the downregulated genes.\n",
    "\n",
    "**Drug Profiles**\n",
    "\n",
    "This file should be in [GCTX](https://clue.io/connectopedia/gctx_format) format. It should be the immediate output of ranking another ```GCTX``` with the [cmapR](https://github.com/cmap/cmapR) ```rank.gct``` method, which takes a ```GCTX``` file with differential expression data as input and returns a matrix of the same size with the columns containing ranks instead.\n",
    "\n",
    "**True Scores**\n",
    "\n",
    "A ```.json``` file containing the true scores calculated previously for the **phenotype signature** and **drug profiles**. The keys are drug profile names and the values are RGES scores."
   ]
  },
  {
   "cell_type": "markdown",
   "metadata": {},
   "source": [
    "## Preprocessing\n",
    "\n",
    "### Load The Pipeline"
   ]
  },
  {
   "cell_type": "code",
   "execution_count": 6,
   "metadata": {
    "collapsed": true
   },
   "outputs": [],
   "source": [
    "from RGES.DiffEx import DiffEx\n",
    "from RGES.L1KGCT import L1KGCTX\n",
    "from RGES.Score import score"
   ]
  },
  {
   "cell_type": "markdown",
   "metadata": {},
   "source": [
    "### Data Filepaths"
   ]
  },
  {
   "cell_type": "code",
   "execution_count": 73,
   "metadata": {
    "collapsed": true
   },
   "outputs": [],
   "source": [
    "PHENOTYPE_SIGNATURE_PATH = \"/home/jovyan/oncogxA/Alex/l1k/DEG_SC_5um_entrezgene.txt\"\n",
    "DRUG_PROFILE_PATH = \"/home/jovyan/oncogxA/Alex/l1k/10x_ilincs_sigs_top500_ranked_n500x978.gctx\"\n",
    "SCORES_PATH = \"LINCS_top500_scores.json\"\n",
    "#SCORES_PATH = \"/home/jovyan/oncogxA/Alex/l1k/LINCS_FULL_GEO_RANKED/LINCS_landmarks_python_scores.json\"\n",
    "\n",
    "OUTPATH = \"ilincs_top500_permutations.json\""
   ]
  },
  {
   "cell_type": "markdown",
   "metadata": {},
   "source": [
    "### Loading/Processing Input Data"
   ]
  },
  {
   "cell_type": "code",
   "execution_count": 74,
   "metadata": {
    "collapsed": true
   },
   "outputs": [],
   "source": [
    "DE = DiffEx(PHENOTYPE_SIGNATURE_PATH)\n",
    "LINCS = L1KGCTX(DRUG_PROFILE_PATH)\n",
    "TRUE_SCORES = json.loads(open(SCORES_PATH).read())\n",
    "\n",
    "merge_l2fc = lambda x: -1.0*x['log2fc.y'] if not np.isnan(x['log2fc.y']) else x['log2FoldChange']\n",
    "DE.data['log2FoldChange'] = DE.data.apply(merge_l2fc, axis=1)"
   ]
  },
  {
   "cell_type": "markdown",
   "metadata": {},
   "source": [
    "## Permutation Testing Implementation"
   ]
  },
  {
   "cell_type": "markdown",
   "metadata": {},
   "source": [
    "### Multithreaded Scoring"
   ]
  },
  {
   "cell_type": "code",
   "execution_count": 26,
   "metadata": {
    "collapsed": true
   },
   "outputs": [],
   "source": [
    "def mt_score_CHILD(signame):\n",
    "    \"\"\"Returns the RGES score for signame based on DE and LINCS\"\"\"\n",
    "    return ((signame, score(DE, LINCS, signame)))\n",
    "\n",
    "def mt_score(procs):\n",
    "    \"\"\"Returns a dictionary of {drug_profile: score}\"\"\"\n",
    "    p = Pool(processes=procs)\n",
    "    res = p.map(mt_score_CHILD, list(LINCS.data))\n",
    "    return {r[0]: r[1] for r in res}"
   ]
  },
  {
   "cell_type": "markdown",
   "metadata": {},
   "source": [
    "### Permuting The Disease Signatures\n",
    "\n",
    "Inspired by https://stackoverflow.com/questions/15772009/shuffling-permutating-a-dataframe-in-pandas"
   ]
  },
  {
   "cell_type": "code",
   "execution_count": 62,
   "metadata": {
    "collapsed": true
   },
   "outputs": [],
   "source": [
    "def shuffle_sigs():\n",
    "    LINCS.data = LINCS.data.apply(sklearn.utils.shuffle, axis=0)\n",
    "    LINCS.data.index = map(str, sorted(map(int, list(LINCS.data.index))))"
   ]
  },
  {
   "cell_type": "markdown",
   "metadata": {},
   "source": [
    "### Permutation Test Driver"
   ]
  },
  {
   "cell_type": "code",
   "execution_count": 72,
   "metadata": {
    "scrolled": false
   },
   "outputs": [
    {
     "data": {
      "application/vnd.jupyter.widget-view+json": {
       "model_id": "5e8cbb7de7d7448389b80f9771e580bf"
      }
     },
     "metadata": {},
     "output_type": "display_data"
    },
    {
     "data": {
      "text/plain": [
       "1080215"
      ]
     },
     "execution_count": 72,
     "metadata": {},
     "output_type": "execute_result"
    }
   ],
   "source": [
    "PERMUTATIONS = 100\n",
    "PROCESSES = 1\n",
    "\n",
    "prog_bar = FloatProgress(min=0, max=PERMUTATIONS)\n",
    "display(prog_bar)\n",
    "\n",
    "res_d = {signame: [] for signame in list(LINCS.data)}\n",
    "\n",
    "for i in range(PERMUTATIONS):\n",
    "    shuffle_sigs()\n",
    "    p_res = mt_score(PROCESSES)\n",
    "    for signame in p_res.keys():\n",
    "        res_d[signame].append(p_res[signame])\n",
    "    prog_bar.value += 1\n",
    "        \n",
    "open(OUTPATH, 'w').write(json.dumps(res_d))"
   ]
  },
  {
   "cell_type": "markdown",
   "metadata": {},
   "source": [
    "## Permutation Test Analysis\n",
    "\n",
    "### Load Permutation Data and True Scores"
   ]
  },
  {
   "cell_type": "code",
   "execution_count": 75,
   "metadata": {
    "collapsed": true
   },
   "outputs": [],
   "source": [
    "TRUE_SCORES = json.loads(open(SCORES_PATH).read())\n",
    "PERM_SCORES = json.loads(open(OUTPATH).read())"
   ]
  },
  {
   "cell_type": "markdown",
   "metadata": {},
   "source": [
    "### Calculate P-Values (unadjusted) For Each Drug Profile"
   ]
  },
  {
   "cell_type": "code",
   "execution_count": 93,
   "metadata": {},
   "outputs": [
    {
     "data": {
      "text/html": [
       "<div>\n",
       "<table border=\"1\" class=\"dataframe\">\n",
       "  <thead>\n",
       "    <tr style=\"text-align: right;\">\n",
       "      <th></th>\n",
       "      <th>drug_profile</th>\n",
       "      <th>pval</th>\n",
       "      <th>bh</th>\n",
       "    </tr>\n",
       "  </thead>\n",
       "  <tbody>\n",
       "    <tr>\n",
       "      <th>6</th>\n",
       "      <td>LINCSCP_20399</td>\n",
       "      <td>0.0</td>\n",
       "      <td>0.0</td>\n",
       "    </tr>\n",
       "    <tr>\n",
       "      <th>13</th>\n",
       "      <td>LINCSCP_15728</td>\n",
       "      <td>0.0</td>\n",
       "      <td>0.0</td>\n",
       "    </tr>\n",
       "    <tr>\n",
       "      <th>14</th>\n",
       "      <td>LINCSCP_55167</td>\n",
       "      <td>0.0</td>\n",
       "      <td>0.0</td>\n",
       "    </tr>\n",
       "    <tr>\n",
       "      <th>26</th>\n",
       "      <td>LINCSCP_23402</td>\n",
       "      <td>0.0</td>\n",
       "      <td>0.0</td>\n",
       "    </tr>\n",
       "    <tr>\n",
       "      <th>32</th>\n",
       "      <td>LINCSCP_9809</td>\n",
       "      <td>0.0</td>\n",
       "      <td>0.0</td>\n",
       "    </tr>\n",
       "    <tr>\n",
       "      <th>37</th>\n",
       "      <td>LINCSCP_55145</td>\n",
       "      <td>0.0</td>\n",
       "      <td>0.0</td>\n",
       "    </tr>\n",
       "    <tr>\n",
       "      <th>43</th>\n",
       "      <td>LINCSCP_52113</td>\n",
       "      <td>0.0</td>\n",
       "      <td>0.0</td>\n",
       "    </tr>\n",
       "    <tr>\n",
       "      <th>49</th>\n",
       "      <td>LINCSCP_9627</td>\n",
       "      <td>0.0</td>\n",
       "      <td>0.0</td>\n",
       "    </tr>\n",
       "  </tbody>\n",
       "</table>\n",
       "</div>"
      ],
      "text/plain": [
       "     drug_profile  pval   bh\n",
       "6   LINCSCP_20399   0.0  0.0\n",
       "13  LINCSCP_15728   0.0  0.0\n",
       "14  LINCSCP_55167   0.0  0.0\n",
       "26  LINCSCP_23402   0.0  0.0\n",
       "32   LINCSCP_9809   0.0  0.0\n",
       "37  LINCSCP_55145   0.0  0.0\n",
       "43  LINCSCP_52113   0.0  0.0\n",
       "49   LINCSCP_9627   0.0  0.0"
      ]
     },
     "execution_count": 93,
     "metadata": {},
     "output_type": "execute_result"
    }
   ],
   "source": [
    "pvals = {}  #{drug_profile: pval}\n",
    "\n",
    "for signame in TRUE_SCORES.keys():\n",
    "    score = TRUE_SCORES[signame]\n",
    "    if score < 0:\n",
    "        continue  #Don't care about negative RGES\n",
    "    perms = PERM_SCORES[signame]\n",
    "    extr_count = float(sum([1 if p >= score else 0 for p in perms]))\n",
    "    pvals[signame] = extr_count/len(perms)\n",
    "    \n",
    "pvals = pd.DataFrame(list(pvals.items()), columns=[\"drug_profile\", \"pval\"])\n",
    "stats = importr('stats')\n",
    "pvals['bh'] = stats.p_adjust(FloatVector(pvals['pval']), method='BH')\n",
    "pvals[pvals[\"bh\"]<0.05]"
   ]
  },
  {
   "cell_type": "markdown",
   "metadata": {},
   "source": [
    "1. Sirota, M., Dudley, J.T., Kim, J., Chiang, A.P., Morgan, A.A., Sweet-Cordero, A., Sage, J., and Butte, A.J. (2011). Discovery and Preclinical Validation of Drug Indications Using Compendia of Public Gene Expression Data. Science Translational Medicine 3, 96ra77-96ra77."
   ]
  }
 ],
 "metadata": {
  "kernelspec": {
   "display_name": "Python 3",
   "language": "python",
   "name": "python3"
  },
  "language_info": {
   "codemirror_mode": {
    "name": "ipython",
    "version": 3
   },
   "file_extension": ".py",
   "mimetype": "text/x-python",
   "name": "python",
   "nbconvert_exporter": "python",
   "pygments_lexer": "ipython3",
   "version": "3.5.2"
  }
 },
 "nbformat": 4,
 "nbformat_minor": 2
}
