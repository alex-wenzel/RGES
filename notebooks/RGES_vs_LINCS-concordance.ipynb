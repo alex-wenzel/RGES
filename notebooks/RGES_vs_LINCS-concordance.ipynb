{
 "cells": [
  {
   "cell_type": "code",
   "execution_count": 3,
   "metadata": {
    "collapsed": true
   },
   "outputs": [],
   "source": [
    "%matplotlib inline\n",
    "%load_ext autoreload\n",
    "%autoreload 2\n",
    "\n",
    "import matplotlib.pyplot as plt\n",
    "import numpy as np\n",
    "import pandas as pd\n",
    "from scipy.stats import pearsonr\n",
    "import seaborn as sns\n",
    "sns.set()\n",
    "import sys\n",
    "\n",
    "sys.path.insert(0, \"../\")"
   ]
  },
  {
   "cell_type": "code",
   "execution_count": 4,
   "metadata": {
    "collapsed": true
   },
   "outputs": [],
   "source": [
    "from RGES.DiffEx import DiffEx\n",
    "from RGES.L1KGCT import MultiL1KGCT\n",
    "from RGES.Score import score"
   ]
  },
  {
   "cell_type": "markdown",
   "metadata": {},
   "source": [
    "# Comparing Python RGES To LINCS L1000 Concordance Scores\n",
    "\n",
    "## Introduction\n",
    "\n",
    "Our goal is to identify drugs that produce signatures *reverse* to the differential expression signatures seen in platinum-based drug resistance. To do this, we calculate a Reverse Gene Expression Score using a similar method to [Chen et al](https://www.nature.com/articles/ncomms16022#supplementary-information). This notebook tests the implementation of RGES by checking for correlation with the [iLINCS](http://www.ilincs.org/ilincs/signaturesL1000/LDG-1188/search/) portal concordance score for Carboplatin resistance. The steps to acquire the iLINCS concordance score are described below."
   ]
  },
  {
   "cell_type": "markdown",
   "metadata": {},
   "source": [
    "## Loading Concordance Scores\n",
    "\n",
    "Concordance scores are stored at ```/mnt/oncogxA/Alex/l1k/CTPRES_ilincs_concordance.tsv```\n",
    "\n",
    "This code loads the concordance data and then creates a dictionary of ```{signature_name: concordance_score}```"
   ]
  },
  {
   "cell_type": "code",
   "execution_count": 5,
   "metadata": {
    "collapsed": true
   },
   "outputs": [],
   "source": [
    "#concord_path = \"/home/jovyan/oncogxA/Alex/l1k/CTPRES_ilincs_concordance.tsv\"\n",
    "#concord_path = \"/home/jovyan/oncogxA/Alex/l1k/ilincs_ctprs_100top_100bottom_concord.xls\"\n",
    "#concord_path = \"/home/jovyan/oncogxA/Alex/l1k/ilincs_ctprs_skip5.xls\"\n",
    "concord_path = \"/home/jovyan/oncogxA/Alex/l1k/10x_ilincs_concordance.xls\"\n",
    "concord_df = pd.read_csv(concord_path, sep='\\t')\n",
    "\n",
    "conc_d = {r['SignatureId']: r['Concordance'] for _, r in concord_df.iterrows()}"
   ]
  },
  {
   "cell_type": "markdown",
   "metadata": {},
   "source": [
    "## Loading Carboplatin Signature and LINCS Signatures Data\n",
    "\n",
    "This code loads the CTPRES file and the LINCS Signatures file, which are at\n",
    "\n",
    "```/mnt/oncogxA/Alex/l1k/res.df.entrez.txt```\n",
    "\n",
    "/mnt/oncogxA/Alex/l1k/CTPRES_100_concordant_sigs.gct"
   ]
  },
  {
   "cell_type": "code",
   "execution_count": 29,
   "metadata": {
    "collapsed": true
   },
   "outputs": [],
   "source": [
    "#de = DiffEx(\"/home/jovyan/oncogxA/Alex/l1k/res.df.entrez.txt\")\n",
    "de = DiffEx(\"/home/jovyan/oncogxA/Alex/l1k/DEG_SC_5um_entrezgene.txt\")\n",
    "\n",
    "#lincs_sigs = MultiL1KGCT(\"/home/jovyan/oncogxA/Alex/l1k/CTPRES_100_concordant_sigs.gct\", normalized=True)\n",
    "#lincs_sigs = MultiL1KGCT(\"/home/jovyan/oncogxA/Alex/l1k/ilincs_ctprs_100top_100bottom.gct\", normalized=True)\n",
    "#lincs_sigs = MultiL1KGCT(\"/home/jovyan/oncogxA/Alex/l1k/ilincs_ctprs_skip5.gct\", normalized=True)\n",
    "lincs_sigs = MultiL1KGCT(\"/home/jovyan/oncogxA/Alex/l1k/10x_ilincs_sigs_top500.gct\", normalized=True)"
   ]
  },
  {
   "cell_type": "code",
   "execution_count": 30,
   "metadata": {
    "collapsed": true
   },
   "outputs": [],
   "source": [
    "## Run this cell if there are log2fc.x and log2fc.y columns\n",
    "\n",
    "merge_l2fc = lambda x: -1.0*x['log2fc.y'] if not np.isnan(x['log2fc.y']) else x['log2FoldChange']\n",
    "\n",
    "de.data['log2FoldChange'] = de.data.apply(merge_l2fc, axis=1)"
   ]
  },
  {
   "cell_type": "markdown",
   "metadata": {},
   "source": [
    "## Calculate Scores For Each Signature"
   ]
  },
  {
   "cell_type": "code",
   "execution_count": 33,
   "metadata": {
    "collapsed": true
   },
   "outputs": [],
   "source": [
    "points = []  #[(concordance, RGES)]\n",
    "\n",
    "for signame in lincs_sigs.metadata.keys():\n",
    "    concordance = conc_d[signame]\n",
    "    rges = score(de, lincs_sigs, signame)\n",
    "    points.append((concordance, rges))"
   ]
  },
  {
   "cell_type": "code",
   "execution_count": 34,
   "metadata": {},
   "outputs": [
    {
     "data": {
      "text/plain": [
       "(-0.75967567292275295, 4.0105677371667816e-95)"
      ]
     },
     "execution_count": 34,
     "metadata": {},
     "output_type": "execute_result"
    },
    {
     "data": {
      "image/png": "[encoded data removed]",
      "text/plain": [
       "<matplotlib.figure.Figure at 0x7fb9413bb2b0>"
      ]
     },
     "metadata": {},
     "output_type": "display_data"
    }
   ],
   "source": [
    "x = [p[0] for p in points]\n",
    "y = [p[1] for p in points]\n",
    "plt.scatter(x, y)\n",
    "pearsonr(x, y)"
   ]
  },
  {
   "cell_type": "markdown",
   "metadata": {},
   "source": [
    "## Querying the iLINCS Concordance For CTPRES\n",
    "\n",
    "**TODO**: Write up a description of how to get concordance for a phenotype signature. Its in my notes for 2018-03-27"
   ]
  }
 ],
 "metadata": {
  "kernelspec": {
   "display_name": "Python 3",
   "language": "python",
   "name": "python3"
  },
  "language_info": {
   "codemirror_mode": {
    "name": "ipython",
    "version": 3
   },
   "file_extension": ".py",
   "mimetype": "text/x-python",
   "name": "python",
   "nbconvert_exporter": "python",
   "pygments_lexer": "ipython3",
   "version": "3.5.2"
  }
 },
 "nbformat": 4,
 "nbformat_minor": 2
}
