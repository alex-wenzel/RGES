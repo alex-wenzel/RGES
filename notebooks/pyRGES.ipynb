{
 "cells": [
  {
   "cell_type": "code",
   "execution_count": 11,
   "metadata": {},
   "outputs": [
    {
     "name": "stdout",
     "output_type": "stream",
     "text": [
      "The autoreload extension is already loaded. To reload it, use:\n",
      "  %reload_ext autoreload\n"
     ]
    }
   ],
   "source": [
    "%matplotlib inline\n",
    "%load_ext autoreload\n",
    "%autoreload 2\n",
    "\n",
    "import matplotlib.pyplot as plt\n",
    "import numpy as np\n",
    "import pandas as pd\n",
    "import seaborn as sns\n",
    "sns.set()\n",
    "\n",
    "from IPython.display import display\n",
    "from ipywidgets import FloatProgress\n",
    "import json\n",
    "import sys\n",
    "sys.path.insert(0, '../')"
   ]
  },
  {
   "cell_type": "markdown",
   "metadata": {},
   "source": [
    "# Reverse Gene Expression Score for Python\n",
    "\n",
    "This notebook is a driver for the RGES test reimplemented in Python 3 as originally proposed by Chen et al<sup>1</sup>. This notebook takes the following files as input:\n",
    "\n",
    "**Phenotype Signature**\n",
    "\n",
    "A tab-separated format with the following columns:\n",
    "- ```entrezgene```: Entrez gene ID numbers\n",
    "- ```log2FoldChange```: Fold change for the upregulated genes.\n",
    "- ```log2fc.y```: The **unsigned** fold change for the downregulated genes.\n",
    "\n",
    "**Drug Profiles**\n",
    "\n",
    "This file should be in [GCTX](https://clue.io/connectopedia/gctx_format) format. It should be the immediate output of ranking another ```GCTX``` with the [cmapR](https://github.com/cmap/cmapR) ```rank.gct``` method, which takes a ```GCTX``` file with differential expression data as input and returns a matrix of the same size with the columns containing ranks instead."
   ]
  },
  {
   "cell_type": "markdown",
   "metadata": {},
   "source": [
    "## Step 1: Import Pipeline Functions\n",
    "\n",
    "The Python implementation of RGES contains 3 main components:\n",
    "- ```DiffEx```: Implements a representation and processing functions for the phenotype signature data\n",
    "- ```L1KGCT```: Implements a representation and processing functions for the LINCS ```GCTX``` ranked data\n",
    "- ```Score```: Implements the scoring algorithm"
   ]
  },
  {
   "cell_type": "code",
   "execution_count": 4,
   "metadata": {
    "collapsed": true
   },
   "outputs": [],
   "source": [
    "from RGES.DiffEx import DiffEx\n",
    "from RGES.L1KGCT import L1KGCTX\n",
    "from RGES.Score import score"
   ]
  },
  {
   "cell_type": "markdown",
   "metadata": {},
   "source": [
    "## Step 2: Load Data\n",
    "\n",
    "The following code contains data to build the Python representations of the phenotype signature and LINCS drug profile data and perform some pre-processing."
   ]
  },
  {
   "cell_type": "markdown",
   "metadata": {},
   "source": [
    "### Data File Paths"
   ]
  },
  {
   "cell_type": "code",
   "execution_count": 22,
   "metadata": {
    "collapsed": true
   },
   "outputs": [],
   "source": [
    "PHENOTYPE_SIGNATURE_PATH = \"/home/jovyan/oncogxA/Alex/l1k/DEG_SC_5um_entrezgene.txt\"\n",
    "DRUG_PROFILE_PATH = \"/home/jovyan/oncogxA/Alex/l1k/10x_ilincs_sigs_top500_ranked_n500x978.gctx\"\n",
    "#DRUG_PROFILE_PATH = \"/home/jovyan/oncogxA/Alex/l1k/LINCS_FULL_GEO_RANKED/GSE70138_2017-03-06_landmarks_ranked_n118050x972.gctx\""
   ]
  },
  {
   "cell_type": "markdown",
   "metadata": {},
   "source": [
    "### Phenotype Signature and LINCS Drug Profile Objects"
   ]
  },
  {
   "cell_type": "code",
   "execution_count": 23,
   "metadata": {
    "collapsed": true
   },
   "outputs": [],
   "source": [
    "DE = DiffEx(PHENOTYPE_SIGNATURE_PATH)\n",
    "LINCS = L1KGCTX(DRUG_PROFILE_PATH) "
   ]
  },
  {
   "cell_type": "markdown",
   "metadata": {},
   "source": [
    "### Phenotype Signature Preprocessing\n",
    "\n",
    "This step moves all of the fold change data into the same column and makes sure the downregulated genes have negative log fold change."
   ]
  },
  {
   "cell_type": "code",
   "execution_count": 24,
   "metadata": {
    "collapsed": true
   },
   "outputs": [],
   "source": [
    "merge_l2fc = lambda x: -1.0*x['log2fc.y'] if not np.isnan(x['log2fc.y']) else x['log2FoldChange']\n",
    "DE.data['log2FoldChange'] = DE.data.apply(merge_l2fc, axis=1)"
   ]
  },
  {
   "cell_type": "markdown",
   "metadata": {},
   "source": [
    "## Step 3: Computes Scores\n",
    "\n",
    "The code below defines a function to iterate through the ```LINCS``` data file and compute an RGES score for each profile based on the ```DE``` data. Scores are stored in a ```dict``` object and written to the JSON file specified in ```OUTPATH```.\n",
    "\n",
    "### Scores Output Path"
   ]
  },
  {
   "cell_type": "code",
   "execution_count": 25,
   "metadata": {
    "collapsed": true
   },
   "outputs": [],
   "source": [
    "OUTPATH = \"LINCS_top500_scores.json\"\n",
    "#OUTPATH = \"LINCS_FULL.json\""
   ]
  },
  {
   "cell_type": "markdown",
   "metadata": {},
   "source": [
    "### Scoring Function"
   ]
  },
  {
   "cell_type": "code",
   "execution_count": 26,
   "metadata": {
    "collapsed": true
   },
   "outputs": [],
   "source": [
    "def score_lincs():\n",
    "    prog_bar = FloatProgress(min=0, max=len(list(LINCS.data)))\n",
    "    display(prog_bar)\n",
    "    score_d = {}  #{drug_profile: score}\n",
    "    for signame in list(LINCS.data):\n",
    "        score_d[signame] = score(DE, LINCS, signame)\n",
    "        prog_bar.value += 1\n",
    "    open(OUTPATH, 'w').write(json.dumps(score_d))"
   ]
  },
  {
   "cell_type": "code",
   "execution_count": 27,
   "metadata": {},
   "outputs": [
    {
     "data": {
      "application/vnd.jupyter.widget-view+json": {
       "model_id": "abd86285430e49419a8170c73a13b939"
      }
     },
     "metadata": {},
     "output_type": "display_data"
    }
   ],
   "source": [
    "score_lincs()"
   ]
  },
  {
   "cell_type": "markdown",
   "metadata": {},
   "source": [
    "1. Chen, B., Ma, L., Paik, H., Sirota, M., Wei, W., Chua, M.-S., So, S., and Butte, A.J. (2017). Reversal of cancer gene expression correlates with drug efficacy and reveals therapeutic targets. Nature Communications 8, 16022."
   ]
  }
 ],
 "metadata": {
  "kernelspec": {
   "display_name": "Python 3",
   "language": "python",
   "name": "python3"
  },
  "language_info": {
   "codemirror_mode": {
    "name": "ipython",
    "version": 3
   },
   "file_extension": ".py",
   "mimetype": "text/x-python",
   "name": "python",
   "nbconvert_exporter": "python",
   "pygments_lexer": "ipython3",
   "version": "3.5.2"
  }
 },
 "nbformat": 4,
 "nbformat_minor": 2
}
